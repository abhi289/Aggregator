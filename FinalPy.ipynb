{
 "cells": [
  {
   "cell_type": "markdown",
   "metadata": {
    "application/vnd.databricks.v1+cell": {
     "cellMetadata": {},
     "inputWidgets": {},
     "nuid": "70dc6977-6f45-461e-bc0b-1bfb21d28530",
     "showTitle": false,
     "tableResultSettingsMap": {},
     "title": ""
    }
   },
   "source": [
    "## BRONZE LAYER _ Ingesting Data to Databricks"
   ]
  },
  {
   "cell_type": "code",
   "execution_count": 0,
   "metadata": {
    "application/vnd.databricks.v1+cell": {
     "cellMetadata": {},
     "inputWidgets": {},
     "nuid": "da32f828-a73f-45c3-83e5-b8efcf14451b",
     "showTitle": false,
     "tableResultSettingsMap": {},
     "title": ""
    }
   },
   "outputs": [],
   "source": [
    "import requests,json\n",
    "from pyspark.sql import SparkSession\n",
    "\n",
    "#defining the Spark Session\n",
    "spark = SparkSession.builder.appName(\"JobETL_Bronze\").getOrCreate()\n",
    "\n",
    "#defining the API Key\n",
    "API_KEY = \"389429d5e4ce6553514c445f10f6ade53b4e34031a4c1c88f802ab97d22455be\"\n",
    "roles = [\"Data Engineer\", \"Python Developer\", \"ETL Developer\", \"Spark Engineer\", \"Data Analyst\"]\n",
    "location = \"India\"\n",
    "all_jobs = []\n",
    "\n",
    "#Running a Loop over all the Job Roles\n",
    "for role in roles:\n",
    "    params={\n",
    "        \"engine\":\"google_jobs\",\n",
    "        \"q\":role,\n",
    "        \"location\":location,\n",
    "        \"api_key\":API_KEY\n",
    "    }\n",
    "    res = requests.get(\"https://serpapi.com/search.json\", params=params)\n",
    "    print(\"✅Reading 🔴LIVE Data from Google Jobs API\")\n",
    "    jobs = res.json().get(\"jobs_results\", [])\n",
    "                        \n",
    "    for job in jobs:\n",
    "        job[\"search_role\"] = role\n",
    "    all_jobs.extend(jobs)\n",
    "\n",
    "bronze_df = spark.read.json(spark.sparkContext.parallelize([json.dumps(job) for job in all_jobs]))\n",
    "bronze_df.write.format(\"delta\").option(\"mergeSchema\", \"true\").mode(\"append\").save(\"/mnt/lakehouse/bronze/jobs_raw\")\n",
    "print(\"✅Data Written to Bronze Layer\")"
   ]
  },
  {
   "cell_type": "code",
   "execution_count": 0,
   "metadata": {
    "application/vnd.databricks.v1+cell": {
     "cellMetadata": {},
     "inputWidgets": {},
     "nuid": "7423e35e-37ea-42eb-9fc0-275af66e4dee",
     "showTitle": false,
     "tableResultSettingsMap": {},
     "title": ""
    }
   },
   "outputs": [],
   "source": [
    "# display(bronze_df)"
   ]
  },
  {
   "cell_type": "markdown",
   "metadata": {
    "application/vnd.databricks.v1+cell": {
     "cellMetadata": {},
     "inputWidgets": {},
     "nuid": "9064febc-0313-4c25-8f9a-d4e0f8c32a6a",
     "showTitle": false,
     "tableResultSettingsMap": {},
     "title": ""
    }
   },
   "source": [
    "## SILVER LAYER ---> Cleaning and Structuring"
   ]
  },
  {
   "cell_type": "code",
   "execution_count": 0,
   "metadata": {
    "application/vnd.databricks.v1+cell": {
     "cellMetadata": {},
     "inputWidgets": {},
     "nuid": "225d7813-65fa-4e2e-8905-eab1edc0c336",
     "showTitle": false,
     "tableResultSettingsMap": {},
     "title": ""
    }
   },
   "outputs": [],
   "source": [
    "from pyspark.sql.functions import *\n",
    "\n",
    "spark=SparkSession.builder.appName(\"JobETL_Silver\").getOrCreate()\n",
    "\n",
    "#reading Bronze Layer\n",
    "print(\"✅Reading from Bronze Layer -------> Silver Layer\")\n",
    "df=spark.read.format(\"delta\").load(\"/mnt/lakehouse/bronze/jobs_raw\")\n",
    "\n",
    "#cleaning and Structuring\n",
    "silver_df=df.selectExpr(\n",
    "    \"title\",\n",
    "    \"company_name\",\n",
    "    \"location\",\n",
    "    \"description\",\n",
    "    \"job_id\",  \n",
    "    \"detected_extensions.posted_at as posted_at\",\n",
    "    \"search_role\"\n",
    ").dropna(subset=[\"title\", \"company_name\", \"location\"])\n"
   ]
  },
  {
   "cell_type": "code",
   "execution_count": 0,
   "metadata": {
    "application/vnd.databricks.v1+cell": {
     "cellMetadata": {},
     "inputWidgets": {},
     "nuid": "43904d7a-c767-406f-bfd1-a38b5d004cf8",
     "showTitle": false,
     "tableResultSettingsMap": {},
     "title": ""
    }
   },
   "outputs": [],
   "source": [
    "# display(silver_df)"
   ]
  },
  {
   "cell_type": "code",
   "execution_count": 0,
   "metadata": {
    "application/vnd.databricks.v1+cell": {
     "cellMetadata": {},
     "inputWidgets": {},
     "nuid": "73becce4-c2b7-4766-bdf4-d2c6d57da084",
     "showTitle": false,
     "tableResultSettingsMap": {},
     "title": ""
    }
   },
   "outputs": [],
   "source": [
    "silver_df=silver_df.withColumn(\"company_name\",trim(upper(col(\"company_name\"))))\n",
    "silver_df=silver_df.dropna(subset=[\"posted_at\"])\n",
    "silver_df.write.format(\"delta\").option(\"mergeSchema\", \"true\").mode(\"append\").save(\"/mnt/lakehouse/silver/jobs\")\n",
    "print(\"✅ Data Written to Silver Layer!\")\n",
    "# display(silver_df)"
   ]
  },
  {
   "cell_type": "markdown",
   "metadata": {
    "application/vnd.databricks.v1+cell": {
     "cellMetadata": {},
     "inputWidgets": {},
     "nuid": "245e0fc8-5b78-40ca-b80c-6e2b9091e277",
     "showTitle": false,
     "tableResultSettingsMap": {},
     "title": ""
    }
   },
   "source": [
    "## Golden LAYER ---> Generate KPI Tables"
   ]
  },
  {
   "cell_type": "code",
   "execution_count": 0,
   "metadata": {
    "application/vnd.databricks.v1+cell": {
     "cellMetadata": {},
     "inputWidgets": {},
     "nuid": "afb8b824-5369-491a-b388-267999e2391c",
     "showTitle": false,
     "tableResultSettingsMap": {},
     "title": ""
    }
   },
   "outputs": [],
   "source": [
    "from pyspark.sql.functions import *\n",
    "\n",
    "spark=SparkSession.builder.appName(\"JobETL_Gold\").getOrCreate()\n",
    "\n",
    "print(\"✅Reading from Silver Layer -------> Golden Layer\")\n",
    "\n",
    "df=spark.read.format(\"delta\").load(\"/mnt/lakehouse/silver/jobs\")\n",
    "\n",
    "#writing the golden layer to a file \n",
    "df.write.format(\"delta\").option(\"mergeSchema\", \"true\").mode(\"append\").save(\"/mnt/lakehouse/gold/jobs\")\n",
    "#KPI 1 - Top Companies \n",
    "top_companies = df.groupBy(\"company_name\").count().orderBy(col(\"count\").desc())\n",
    "# display(top_companies)\n",
    "\n",
    "#KPI - Jobs by City \n",
    "df.groupBy('Location').agg(count('*').alias('job_count')).orderBy(col('job_count').desc())\n",
    "# display(top_companies)\n"
   ]
  },
  {
   "cell_type": "code",
   "execution_count": 0,
   "metadata": {
    "application/vnd.databricks.v1+cell": {
     "cellMetadata": {},
     "inputWidgets": {},
     "nuid": "0ebdecd1-7587-4795-bf53-c26cb9fb9ac2",
     "showTitle": false,
     "tableResultSettingsMap": {},
     "title": ""
    }
   },
   "outputs": [],
   "source": [
    "from pyspark.sql.functions import *\n",
    "\n",
    "spark=SparkSession.builder.appName(\"JobETL_Gold\").getOrCreate()\n",
    "\n",
    "df=spark.read.format(\"delta\").load(\"/mnt/lakehouse/silver/jobs\")\n",
    "df.write.mode(\"append\").saveAsTable(\"JobAggregatorTable\")\n",
    "print(\"✅Data Successfully Written to Table ---> JobAggregatorTable\")"
   ]
  },
  {
   "cell_type": "code",
   "execution_count": 0,
   "metadata": {
    "application/vnd.databricks.v1+cell": {
     "cellMetadata": {},
     "inputWidgets": {},
     "nuid": "9d352a70-1b0d-4fae-a741-7da5f9eb08d3",
     "showTitle": false,
     "tableResultSettingsMap": {},
     "title": ""
    }
   },
   "outputs": [],
   "source": [
    "%sql \n",
    "describe history JobAggregatorTable"
   ]
  },
  {
   "cell_type": "code",
   "execution_count": 0,
   "metadata": {
    "application/vnd.databricks.v1+cell": {
     "cellMetadata": {},
     "inputWidgets": {},
     "nuid": "50589d35-491d-4eda-bebb-5aeb7282cc41",
     "showTitle": false,
     "tableResultSettingsMap": {},
     "title": ""
    }
   },
   "outputs": [],
   "source": [
    "%sql\n",
    "select * from JobAggregatorTable"
   ]
  },
  {
   "cell_type": "markdown",
   "metadata": {
    "application/vnd.databricks.v1+cell": {
     "cellMetadata": {},
     "inputWidgets": {},
     "nuid": "2c144b77-d287-437d-b112-42afbdf78de8",
     "showTitle": false,
     "tableResultSettingsMap": {},
     "title": ""
    }
   },
   "source": [
    "# Data Analytics Part -: Visualising Business Scenrios"
   ]
  },
  {
   "cell_type": "code",
   "execution_count": 0,
   "metadata": {
    "application/vnd.databricks.v1+cell": {
     "cellMetadata": {},
     "inputWidgets": {},
     "nuid": "eae0d427-ce46-4a67-bb87-30a046ea772f",
     "showTitle": false,
     "tableResultSettingsMap": {},
     "title": ""
    }
   },
   "outputs": [],
   "source": [
    "import matplotlib.pyplot as plt"
   ]
  },
  {
   "cell_type": "code",
   "execution_count": 0,
   "metadata": {
    "application/vnd.databricks.v1+cell": {
     "cellMetadata": {},
     "inputWidgets": {},
     "nuid": "3c503338-8064-4175-b428-02464fae71e9",
     "showTitle": false,
     "tableResultSettingsMap": {},
     "title": ""
    }
   },
   "outputs": [],
   "source": [
    "spark = SparkSession.builder.appName(\"VisualsFromGold\").getOrCreate()"
   ]
  },
  {
   "cell_type": "code",
   "execution_count": 0,
   "metadata": {
    "application/vnd.databricks.v1+cell": {
     "cellMetadata": {},
     "inputWidgets": {},
     "nuid": "f635196d-50c8-4bea-8a05-6387e03fa5f2",
     "showTitle": false,
     "tableResultSettingsMap": {},
     "title": ""
    }
   },
   "outputs": [],
   "source": [
    "# Load gold layer: top companies\n",
    "df_companies = spark.read.format(\"delta\").load(\"/mnt/lakehouse/gold/jobs\")\n",
    "df_companies=df_companies.dropna(subset=[\"posted_at\"])\n",
    "display(df_companies)"
   ]
  },
  {
   "cell_type": "code",
   "execution_count": 0,
   "metadata": {
    "application/vnd.databricks.v1+cell": {
     "cellMetadata": {},
     "inputWidgets": {},
     "nuid": "e3d20be6-9453-4ecc-8af2-f3dd0a1e6b3c",
     "showTitle": false,
     "tableResultSettingsMap": {},
     "title": ""
    }
   },
   "outputs": [],
   "source": [
    "# Convert to Pandas for plotting\n",
    "pdf = df_companies.orderBy(\"c\", ascending=True).limit(10).toPandas()"
   ]
  },
  {
   "cell_type": "code",
   "execution_count": 0,
   "metadata": {
    "application/vnd.databricks.v1+cell": {
     "cellMetadata": {},
     "inputWidgets": {},
     "nuid": "e5b8a025-e6cd-4795-a7f4-36a3b5d6da82",
     "showTitle": false,
     "tableResultSettingsMap": {},
     "title": ""
    }
   },
   "outputs": [],
   "source": [
    "display(pdf)"
   ]
  },
  {
   "cell_type": "code",
   "execution_count": 0,
   "metadata": {
    "application/vnd.databricks.v1+cell": {
     "cellMetadata": {},
     "inputWidgets": {},
     "nuid": "1b7212ff-927d-4a31-93e9-67ba995982aa",
     "showTitle": false,
     "tableResultSettingsMap": {},
     "title": ""
    }
   },
   "outputs": [],
   "source": [
    "#creating a plot\n",
    "plt.figure(figsize=(10,5))\n",
    "plt.barh(pdf['company_name'][::-1], pdf['title'][::-1], color='skyblue')\n",
    "plt.xlabel('Number of Jobs')\n",
    "plt.ylabel('Top Companies Hiring')\n",
    "plt.grid(True,axis='x',linestyle='--',alpha=0.5)\n",
    "plt.tight_layout()\n",
    "plt.show()\n",
    "\n"
   ]
  },
  {
   "cell_type": "markdown",
   "metadata": {
    "application/vnd.databricks.v1+cell": {
     "cellMetadata": {},
     "inputWidgets": {},
     "nuid": "8107c849-ff28-43c3-bbf1-e8601bdb0d83",
     "showTitle": false,
     "tableResultSettingsMap": {},
     "title": ""
    }
   },
   "source": [
    "## Job Demand by City Plot"
   ]
  },
  {
   "cell_type": "code",
   "execution_count": 0,
   "metadata": {
    "application/vnd.databricks.v1+cell": {
     "cellMetadata": {},
     "inputWidgets": {},
     "nuid": "fb0b618f-b6e4-455a-aee7-8a7e34d0ec4f",
     "showTitle": false,
     "tableResultSettingsMap": {},
     "title": ""
    }
   },
   "outputs": [],
   "source": [
    "df_cities = spark.read.format(\"delta\").load(\"/mnt/lakehouse/gold/jobs\")\n",
    "df_cities=df_cities.dropna(subset=[\"posted_at\"])\n",
    "pdf_city = df_cities.orderBy(\"posted_at\", ascending=False).toPandas()\n",
    "\n",
    "# Plot\n",
    "plt.figure(figsize=(10, 6))\n",
    "plt.barh(pdf_city['location'][::-1], pdf_city['title'][::-1], color='lightgreen')\n",
    "plt.xlabel(\"Job Postings\")\n",
    "plt.title(\"Job Demand by City\")\n",
    "plt.grid(True, axis='x', linestyle='--', alpha=0.5)\n",
    "plt.tight_layout()\n",
    "plt.show()"
   ]
  }
 ],
 "metadata": {
  "application/vnd.databricks.v1+notebook": {
   "computePreferences": null,
   "dashboards": [],
   "environmentMetadata": {
    "base_environment": "",
    "environment_version": "3"
   },
   "inputWidgetPreferences": null,
   "language": "python",
   "notebookMetadata": {
    "pythonIndentUnit": 4
   },
   "notebookName": "FinalPy",
   "widgets": {}
  },
  "language_info": {
   "name": "python"
  }
 },
 "nbformat": 4,
 "nbformat_minor": 0
}
